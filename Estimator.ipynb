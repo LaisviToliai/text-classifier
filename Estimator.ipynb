{
 "cells": [
  {
   "cell_type": "code",
   "execution_count": 1,
   "metadata": {},
   "outputs": [],
   "source": [
    "from __future__ import absolute_import\n",
    "from __future__ import division\n",
    "from __future__ import print_function"
   ]
  },
  {
   "cell_type": "code",
   "execution_count": 2,
   "metadata": {},
   "outputs": [
    {
     "name": "stderr",
     "output_type": "stream",
     "text": [
      "/home/chetan/.local/lib/python2.7/site-packages/h5py/__init__.py:36: FutureWarning: Conversion of the second argument of issubdtype from `float` to `np.floating` is deprecated. In future, it will be treated as `np.float64 == np.dtype(float).type`.\n",
      "  from ._conv import register_converters as _register_converters\n"
     ]
    },
    {
     "name": "stdout",
     "output_type": "stream",
     "text": [
      "You have TensorFlow version 1.7.0\n"
     ]
    }
   ],
   "source": [
    "import itertools\n",
    "import os\n",
    "\n",
    "%matplotlib inline\n",
    "import matplotlib.pyplot as plt\n",
    "import numpy as np\n",
    "import pandas as pd\n",
    "\n",
    "from sklearn.preprocessing import LabelEncoder\n",
    "\n",
    "import tensorflow as tf\n",
    "from tensorflow import keras\n",
    "\n",
    "# This code was tested with TensorFlow v1.4\n",
    "print(\"You have TensorFlow version\", tf.__version__)"
   ]
  },
  {
   "cell_type": "code",
   "execution_count": 3,
   "metadata": {},
   "outputs": [
    {
     "name": "stderr",
     "output_type": "stream",
     "text": [
      "/home/chetan/.local/lib/python2.7/site-packages/IPython/core/interactiveshell.py:2718: DtypeWarning: Columns (4,5,6,9,13,15,16) have mixed types. Specify dtype option on import or set low_memory=False.\n",
      "  interactivity=interactivity, compiler=compiler, result=result)\n"
     ]
    }
   ],
   "source": [
    "import pandas as pd\n",
    "import numpy as np\n",
    "file_csv = pd.read_csv('export.csv')\n",
    "data = file_csv[[\"DESCR\", \"PRODUCT\"]]\n",
    "data = data.drop_duplicates(subset=[\"DESCR\", \"PRODUCT\"], keep=False)"
   ]
  },
  {
   "cell_type": "code",
   "execution_count": 4,
   "metadata": {},
   "outputs": [],
   "source": [
    "numpy_array = data.as_matrix()\n",
    "X = numpy_array[:,0]\n",
    "Y = numpy_array[:,1]\n",
    "from sklearn.model_selection import train_test_split\n",
    "train_DESCR, test_DESCR, train_PRODUCT, test_PRODUCT = train_test_split(X, Y, test_size=0.2, random_state=8427529)"
   ]
  },
  {
   "cell_type": "code",
   "execution_count": 5,
   "metadata": {},
   "outputs": [],
   "source": [
    "max_words = 12000\n",
    "tokenize = keras.preprocessing.text.Tokenizer(num_words=max_words, char_level=False)"
   ]
  },
  {
   "cell_type": "code",
   "execution_count": 6,
   "metadata": {},
   "outputs": [],
   "source": [
    "tokenize.fit_on_texts(train_DESCR) # only fit on train\n",
    "x_train = tokenize.texts_to_matrix(train_DESCR).astype(np.float32) # model expects float32\n",
    "x_test = tokenize.texts_to_matrix(test_DESCR).astype(np.float32)"
   ]
  },
  {
   "cell_type": "code",
   "execution_count": 7,
   "metadata": {},
   "outputs": [],
   "source": [
    "# Use sklearn utility to convert label strings to numbered index\n",
    "encoder = LabelEncoder()\n",
    "encoder.fit(train_PRODUCT)\n",
    "y_train = encoder.transform(train_PRODUCT)\n",
    "y_test = encoder.transform(test_PRODUCT)"
   ]
  },
  {
   "cell_type": "code",
   "execution_count": 8,
   "metadata": {},
   "outputs": [],
   "source": [
    "# Converts the labels to a one-hot representation\n",
    "num_classes = np.max(y_train) + 1\n",
    "y_train = keras.utils.to_categorical(y_train, num_classes).astype(np.float32)\n",
    "y_test = keras.utils.to_categorical(y_test, num_classes).astype(np.float32)"
   ]
  },
  {
   "cell_type": "code",
   "execution_count": 9,
   "metadata": {},
   "outputs": [
    {
     "name": "stdout",
     "output_type": "stream",
     "text": [
      "x_train shape: (73680, 12000)\n",
      "x_test shape: (18420, 12000)\n",
      "y_train shape: (73680, 119)\n",
      "y_test shape: (18420, 119)\n"
     ]
    }
   ],
   "source": [
    "# Inspect the dimenstions of our training and test data (this is helpful to debug)\n",
    "print('x_train shape:', x_train.shape)\n",
    "print('x_test shape:', x_test.shape)\n",
    "print('y_train shape:', y_train.shape)\n",
    "print('y_test shape:', y_test.shape)"
   ]
  },
  {
   "cell_type": "code",
   "execution_count": 10,
   "metadata": {},
   "outputs": [],
   "source": [
    "# This model trains very quickly and 2 epochs are already more than enough\n",
    "# Training for more epochs will likely lead to overfitting on this dataset\n",
    "# You can try tweaking these hyperparamaters when using this model with your own data\n",
    "batch_size = 24\n",
    "epochs = 3"
   ]
  },
  {
   "cell_type": "code",
   "execution_count": 11,
   "metadata": {},
   "outputs": [],
   "source": [
    "# Build the model\n",
    "model = keras.models.Sequential()\n",
    "model.add(keras.layers.Dense(512, input_shape=(max_words,), name=\"descr\"))\n",
    "model.add(keras.layers.Activation('relu'))\n",
    "model.add(keras.layers.Dropout(0.5))\n",
    "model.add(keras.layers.Dense(num_classes))\n",
    "model.add(keras.layers.Activation('softmax'))\n",
    "\n",
    "model.compile(loss='categorical_crossentropy',\n",
    "              optimizer='adam',\n",
    "              metrics=['accuracy'])"
   ]
  },
  {
   "cell_type": "code",
   "execution_count": 12,
   "metadata": {},
   "outputs": [
    {
     "name": "stdout",
     "output_type": "stream",
     "text": [
      "INFO:tensorflow:Using the Keras model provided.\n",
      "INFO:tensorflow:Using default config.\n",
      "WARNING:tensorflow:Using temporary folder as model directory: /tmp/tmpbDZQlH\n",
      "INFO:tensorflow:Using config: {'_save_checkpoints_secs': 600, '_session_config': None, '_keep_checkpoint_max': 5, '_task_type': 'worker', '_global_id_in_cluster': 0, '_is_chief': True, '_cluster_spec': <tensorflow.python.training.server_lib.ClusterSpec object at 0x7f88541aefd0>, '_evaluation_master': '', '_save_checkpoints_steps': None, '_keep_checkpoint_every_n_hours': 10000, '_service': None, '_num_ps_replicas': 0, '_tf_random_seed': None, '_master': '', '_num_worker_replicas': 1, '_task_id': 0, '_log_step_count_steps': 100, '_model_dir': '/tmp/tmpbDZQlH', '_save_summary_steps': 100}\n"
     ]
    }
   ],
   "source": [
    "# Convert Keras model to estimator\n",
    "estimator_model = keras.estimator.model_to_estimator(keras_model=model)"
   ]
  },
  {
   "cell_type": "code",
   "execution_count": 15,
   "metadata": {},
   "outputs": [],
   "source": [
    "# Define input fn\n",
    "def input_function(features, labels=None, shuffle=False):\n",
    "    input_fn = tf.estimator.inputs.numpy_input_fn(\n",
    "        x={\"descr_input\": features}, # See the accompanying blog post for explanation on naming\n",
    "        y=labels,\n",
    "        shuffle=shuffle\n",
    "    )\n",
    "    return input_fn\n"
   ]
  },
  {
   "cell_type": "code",
   "execution_count": 16,
   "metadata": {},
   "outputs": [
    {
     "name": "stdout",
     "output_type": "stream",
     "text": [
      "INFO:tensorflow:Calling model_fn.\n",
      "INFO:tensorflow:Done calling model_fn.\n",
      "INFO:tensorflow:Create CheckpointSaverHook.\n",
      "INFO:tensorflow:Graph was finalized.\n",
      "INFO:tensorflow:Restoring parameters from /tmp/tmpbDZQlH/keras_model.ckpt\n",
      "INFO:tensorflow:Running local_init_op.\n",
      "INFO:tensorflow:Done running local_init_op.\n",
      "INFO:tensorflow:Saving checkpoints for 1 into /tmp/tmpbDZQlH/model.ckpt.\n",
      "INFO:tensorflow:loss = 4.779981, step = 1\n",
      "INFO:tensorflow:global_step/sec: 8.62529\n",
      "INFO:tensorflow:loss = 1.0863581, step = 101 (11.596 sec)\n",
      "INFO:tensorflow:global_step/sec: 8.99741\n",
      "INFO:tensorflow:loss = 0.35556793, step = 201 (11.113 sec)\n",
      "INFO:tensorflow:global_step/sec: 8.97527\n",
      "INFO:tensorflow:loss = 0.3160286, step = 301 (11.142 sec)\n",
      "INFO:tensorflow:global_step/sec: 8.67637\n",
      "INFO:tensorflow:loss = 0.2592278, step = 401 (11.525 sec)\n",
      "INFO:tensorflow:global_step/sec: 8.77858\n",
      "INFO:tensorflow:loss = 0.18682808, step = 501 (11.391 sec)\n",
      "INFO:tensorflow:Saving checkpoints for 577 into /tmp/tmpbDZQlH/model.ckpt.\n",
      "INFO:tensorflow:Loss for final step: 0.08494471.\n"
     ]
    },
    {
     "data": {
      "text/plain": [
       "<tensorflow.python.estimator.estimator.Estimator at 0x7f8848018850>"
      ]
     },
     "execution_count": 16,
     "metadata": {},
     "output_type": "execute_result"
    }
   ],
   "source": [
    "estimator_model.train(input_fn=input_function(x_train, y_train, shuffle=True))"
   ]
  },
  {
   "cell_type": "code",
   "execution_count": 17,
   "metadata": {},
   "outputs": [
    {
     "name": "stdout",
     "output_type": "stream",
     "text": [
      "INFO:tensorflow:Calling model_fn.\n",
      "INFO:tensorflow:Done calling model_fn.\n",
      "INFO:tensorflow:Starting evaluation at 2018-04-27-10:44:47\n",
      "INFO:tensorflow:Graph was finalized.\n",
      "INFO:tensorflow:Restoring parameters from /tmp/tmpbDZQlH/model.ckpt-577\n",
      "INFO:tensorflow:Running local_init_op.\n",
      "INFO:tensorflow:Done running local_init_op.\n",
      "INFO:tensorflow:Finished evaluation at 2018-04-27-10:44:51\n",
      "INFO:tensorflow:Saving dict for global step 577: accuracy = 0.97045803, global_step = 577, loss = 0.13203448\n",
      "{'loss': 0.13203448, 'global_step': 577, 'accuracy': 0.97045803}\n"
     ]
    }
   ],
   "source": [
    "# Evaluate the accuracy of our trained model\n",
    "score = estimator_model.evaluate(input_function(x_test, labels=y_test))\n",
    "print(score)"
   ]
  },
  {
   "cell_type": "code",
   "execution_count": 18,
   "metadata": {},
   "outputs": [],
   "source": [
    "test_PRODUCT = pd.DataFrame(data = test_PRODUCT, columns=[\"PRODUCT\"])"
   ]
  },
  {
   "cell_type": "code",
   "execution_count": 19,
   "metadata": {},
   "outputs": [
    {
     "name": "stdout",
     "output_type": "stream",
     "text": [
      "INFO:tensorflow:Calling model_fn.\n",
      "INFO:tensorflow:Done calling model_fn.\n",
      "INFO:tensorflow:Graph was finalized.\n",
      "INFO:tensorflow:Restoring parameters from /tmp/tmpbDZQlH/model.ckpt-577\n",
      "INFO:tensorflow:Running local_init_op.\n",
      "INFO:tensorflow:Done running local_init_op.\n",
      "Actual label: Clavamox Drops\n",
      "Predicted label: Clavamox Drops\n",
      "\n",
      "Actual label: Baytril Tablet\n",
      "Predicted label: Baytril Tablet\n",
      "\n",
      "Actual label: Prednisone Tablet\n",
      "Predicted label: Prednisone Tablet\n",
      "\n",
      "Actual label: Prednisone Tablet\n",
      "Predicted label: Prednisone Tablet\n",
      "\n",
      "Actual label: Prednisolone Suspension\n",
      "Predicted label: Prednisolone Suspension\n",
      "\n",
      "Actual label: Metronidazole Unspecified\n",
      "Predicted label: Metronidazole Unspecified\n",
      "\n",
      "Actual label: Otitis Compound Pharmacy\n",
      "Predicted label: Otitis Compound Pharmacy\n",
      "\n",
      "Actual label: Clavamox Chewable/Tablet Unspecified\n",
      "Predicted label: Clavamox Chewable/Tablet Unspecified\n",
      "\n",
      "Actual label: Baytril Injectable\n",
      "Predicted label: Baytril Injectable\n",
      "\n",
      "Actual label: Clavamox Chewable/Tablet Unspecified\n",
      "Predicted label: Clavamox Chewable/Tablet Unspecified\n",
      "\n"
     ]
    }
   ],
   "source": [
    "# Here's how to generate a prediction on individual examples\n",
    "text_labels = encoder.classes_ \n",
    "\n",
    "# We'll make predictions for the first five examples\n",
    "examples = x_test[:10]\n",
    "predictions = list(estimator_model.predict(input_function(examples)))\n",
    "\n",
    "# Print out the true and expected label\n",
    "for i in range(len(examples)):\n",
    "    prediction_array = list(predictions[i].values())[0]\n",
    "    predicted_label = text_labels[np.argmax(prediction_array)]\n",
    "    print('Actual label: ' + ''.join(test_PRODUCT.values[i]))\n",
    "    print(\"Predicted label: \" + predicted_label + \"\\n\")"
   ]
  }
 ],
 "metadata": {
  "kernelspec": {
   "display_name": "Python 2",
   "language": "python",
   "name": "python2"
  },
  "language_info": {
   "codemirror_mode": {
    "name": "ipython",
    "version": 2
   },
   "file_extension": ".py",
   "mimetype": "text/x-python",
   "name": "python",
   "nbconvert_exporter": "python",
   "pygments_lexer": "ipython2",
   "version": "2.7.12"
  }
 },
 "nbformat": 4,
 "nbformat_minor": 2
}
